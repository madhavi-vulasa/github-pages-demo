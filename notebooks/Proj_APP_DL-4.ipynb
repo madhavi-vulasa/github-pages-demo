{
  "cells": [
    {
      "cell_type": "markdown",
      "source": [
        "# Sentimental analysis and classification using IMDb dataset and LSTM"
      ],
      "metadata": {
        "id": "qIvWjuvFzwu0"
      }
    },
    {
      "cell_type": "markdown",
      "source": [
        "Performing Sentiment Analysis on the IMDB data set to accurately identify the sentiment of the text ."
      ],
      "metadata": {
        "id": "0hMG8WKa3t-d"
      }
    },
    {
      "cell_type": "code",
      "execution_count": null,
      "metadata": {
        "colab": {
          "base_uri": "https://localhost:8080/"
        },
        "id": "Gqb-A33a7j8j",
        "outputId": "6b670c77-1ccb-4146-d720-21042984571c"
      },
      "outputs": [
        {
          "output_type": "stream",
          "name": "stderr",
          "text": [
            "[nltk_data] Downloading package punkt to /root/nltk_data...\n",
            "[nltk_data]   Package punkt is already up-to-date!\n"
          ]
        },
        {
          "output_type": "execute_result",
          "data": {
            "text/plain": [
              "True"
            ]
          },
          "metadata": {},
          "execution_count": 4
        }
      ],
      "source": [
        "# Importing the required libraries\n",
        "\n",
        "import pandas as pd\n",
        "import numpy as np\n",
        "import matplotlib.pyplot as plt\n",
        "import seaborn as sns\n",
        "import nltk\n",
        "nltk.download(\"punkt\")\n"
      ]
    },
    {
      "cell_type": "markdown",
      "source": [
        "Importing Libraries"
      ],
      "metadata": {
        "id": "Cv88yQn3zUEa"
      }
    },
    {
      "cell_type": "code",
      "execution_count": null,
      "metadata": {
        "id": "yKfTrfKA-NA4"
      },
      "outputs": [],
      "source": [
        "from nltk.tokenize import word_tokenize\n",
        "from keras.preprocessing.text import Tokenizer\n",
        "from tensorflow.keras.preprocessing.text import Tokenizer\n",
        "from tensorflow.keras.preprocessing.sequence import pad_sequences\n",
        "from sklearn import preprocessing\n"
      ]
    },
    {
      "cell_type": "code",
      "execution_count": null,
      "metadata": {
        "id": "Gm1nX1iJHulW"
      },
      "outputs": [],
      "source": [
        "from keras.models import Sequential\n",
        "from keras.layers import Embedding,LSTM,Dense, Dropout"
      ]
    },
    {
      "cell_type": "code",
      "execution_count": null,
      "metadata": {
        "id": "o_AYS0L_CnD0"
      },
      "outputs": [],
      "source": [
        "import warnings\n",
        "warnings.filterwarnings('ignore')\n",
        "sns.set()"
      ]
    },
    {
      "cell_type": "code",
      "execution_count": null,
      "metadata": {
        "id": "Q2xHkaIA-NIr"
      },
      "outputs": [],
      "source": [
        "# reading the IMDB data set into a dataframe\n",
        "\n",
        "df = pd.read_csv(\"IMDB Dataset.csv\")"
      ]
    },
    {
      "cell_type": "code",
      "execution_count": null,
      "metadata": {
        "colab": {
          "base_uri": "https://localhost:8080/",
          "height": 204
        },
        "id": "qDNCdYnI-NMg",
        "outputId": "49fddbb0-7845-462f-d6c3-cfa1d8a7532b"
      },
      "outputs": [
        {
          "output_type": "execute_result",
          "data": {
            "text/plain": [
              "                                              review sentiment\n",
              "0  One of the other reviewers has mentioned that ...  positive\n",
              "1  A wonderful little production. <br /><br />The...  positive\n",
              "2  I thought this was a wonderful way to spend ti...  positive\n",
              "3  Basically there's a family where a little boy ...  negative\n",
              "4  Petter Mattei's \"Love in the Time of Money\" is...  positive"
            ],
            "text/html": [
              "\n",
              "  <div id=\"df-f5601df3-4363-4404-a697-7cbea869a185\">\n",
              "    <div class=\"colab-df-container\">\n",
              "      <div>\n",
              "<style scoped>\n",
              "    .dataframe tbody tr th:only-of-type {\n",
              "        vertical-align: middle;\n",
              "    }\n",
              "\n",
              "    .dataframe tbody tr th {\n",
              "        vertical-align: top;\n",
              "    }\n",
              "\n",
              "    .dataframe thead th {\n",
              "        text-align: right;\n",
              "    }\n",
              "</style>\n",
              "<table border=\"1\" class=\"dataframe\">\n",
              "  <thead>\n",
              "    <tr style=\"text-align: right;\">\n",
              "      <th></th>\n",
              "      <th>review</th>\n",
              "      <th>sentiment</th>\n",
              "    </tr>\n",
              "  </thead>\n",
              "  <tbody>\n",
              "    <tr>\n",
              "      <th>0</th>\n",
              "      <td>One of the other reviewers has mentioned that ...</td>\n",
              "      <td>positive</td>\n",
              "    </tr>\n",
              "    <tr>\n",
              "      <th>1</th>\n",
              "      <td>A wonderful little production. &lt;br /&gt;&lt;br /&gt;The...</td>\n",
              "      <td>positive</td>\n",
              "    </tr>\n",
              "    <tr>\n",
              "      <th>2</th>\n",
              "      <td>I thought this was a wonderful way to spend ti...</td>\n",
              "      <td>positive</td>\n",
              "    </tr>\n",
              "    <tr>\n",
              "      <th>3</th>\n",
              "      <td>Basically there's a family where a little boy ...</td>\n",
              "      <td>negative</td>\n",
              "    </tr>\n",
              "    <tr>\n",
              "      <th>4</th>\n",
              "      <td>Petter Mattei's \"Love in the Time of Money\" is...</td>\n",
              "      <td>positive</td>\n",
              "    </tr>\n",
              "  </tbody>\n",
              "</table>\n",
              "</div>\n",
              "      <button class=\"colab-df-convert\" onclick=\"convertToInteractive('df-f5601df3-4363-4404-a697-7cbea869a185')\"\n",
              "              title=\"Convert this dataframe to an interactive table.\"\n",
              "              style=\"display:none;\">\n",
              "        \n",
              "  <svg xmlns=\"http://www.w3.org/2000/svg\" height=\"24px\"viewBox=\"0 0 24 24\"\n",
              "       width=\"24px\">\n",
              "    <path d=\"M0 0h24v24H0V0z\" fill=\"none\"/>\n",
              "    <path d=\"M18.56 5.44l.94 2.06.94-2.06 2.06-.94-2.06-.94-.94-2.06-.94 2.06-2.06.94zm-11 1L8.5 8.5l.94-2.06 2.06-.94-2.06-.94L8.5 2.5l-.94 2.06-2.06.94zm10 10l.94 2.06.94-2.06 2.06-.94-2.06-.94-.94-2.06-.94 2.06-2.06.94z\"/><path d=\"M17.41 7.96l-1.37-1.37c-.4-.4-.92-.59-1.43-.59-.52 0-1.04.2-1.43.59L10.3 9.45l-7.72 7.72c-.78.78-.78 2.05 0 2.83L4 21.41c.39.39.9.59 1.41.59.51 0 1.02-.2 1.41-.59l7.78-7.78 2.81-2.81c.8-.78.8-2.07 0-2.86zM5.41 20L4 18.59l7.72-7.72 1.47 1.35L5.41 20z\"/>\n",
              "  </svg>\n",
              "      </button>\n",
              "      \n",
              "  <style>\n",
              "    .colab-df-container {\n",
              "      display:flex;\n",
              "      flex-wrap:wrap;\n",
              "      gap: 12px;\n",
              "    }\n",
              "\n",
              "    .colab-df-convert {\n",
              "      background-color: #E8F0FE;\n",
              "      border: none;\n",
              "      border-radius: 50%;\n",
              "      cursor: pointer;\n",
              "      display: none;\n",
              "      fill: #1967D2;\n",
              "      height: 32px;\n",
              "      padding: 0 0 0 0;\n",
              "      width: 32px;\n",
              "    }\n",
              "\n",
              "    .colab-df-convert:hover {\n",
              "      background-color: #E2EBFA;\n",
              "      box-shadow: 0px 1px 2px rgba(60, 64, 67, 0.3), 0px 1px 3px 1px rgba(60, 64, 67, 0.15);\n",
              "      fill: #174EA6;\n",
              "    }\n",
              "\n",
              "    [theme=dark] .colab-df-convert {\n",
              "      background-color: #3B4455;\n",
              "      fill: #D2E3FC;\n",
              "    }\n",
              "\n",
              "    [theme=dark] .colab-df-convert:hover {\n",
              "      background-color: #434B5C;\n",
              "      box-shadow: 0px 1px 3px 1px rgba(0, 0, 0, 0.15);\n",
              "      filter: drop-shadow(0px 1px 2px rgba(0, 0, 0, 0.3));\n",
              "      fill: #FFFFFF;\n",
              "    }\n",
              "  </style>\n",
              "\n",
              "      <script>\n",
              "        const buttonEl =\n",
              "          document.querySelector('#df-f5601df3-4363-4404-a697-7cbea869a185 button.colab-df-convert');\n",
              "        buttonEl.style.display =\n",
              "          google.colab.kernel.accessAllowed ? 'block' : 'none';\n",
              "\n",
              "        async function convertToInteractive(key) {\n",
              "          const element = document.querySelector('#df-f5601df3-4363-4404-a697-7cbea869a185');\n",
              "          const dataTable =\n",
              "            await google.colab.kernel.invokeFunction('convertToInteractive',\n",
              "                                                     [key], {});\n",
              "          if (!dataTable) return;\n",
              "\n",
              "          const docLinkHtml = 'Like what you see? Visit the ' +\n",
              "            '<a target=\"_blank\" href=https://colab.research.google.com/notebooks/data_table.ipynb>data table notebook</a>'\n",
              "            + ' to learn more about interactive tables.';\n",
              "          element.innerHTML = '';\n",
              "          dataTable['output_type'] = 'display_data';\n",
              "          await google.colab.output.renderOutput(dataTable, element);\n",
              "          const docLink = document.createElement('div');\n",
              "          docLink.innerHTML = docLinkHtml;\n",
              "          element.appendChild(docLink);\n",
              "        }\n",
              "      </script>\n",
              "    </div>\n",
              "  </div>\n",
              "  "
            ]
          },
          "metadata": {},
          "execution_count": 9
        }
      ],
      "source": [
        "# Top 5 rows\n",
        "df.head()"
      ]
    },
    {
      "cell_type": "code",
      "execution_count": null,
      "metadata": {
        "colab": {
          "base_uri": "https://localhost:8080/"
        },
        "id": "0Ai8yKgVJ_7I",
        "outputId": "32c74173-74c7-41fe-cb50-f06e087a093f"
      },
      "outputs": [
        {
          "output_type": "execute_result",
          "data": {
            "text/plain": [
              "positive    25000\n",
              "negative    25000\n",
              "Name: sentiment, dtype: int64"
            ]
          },
          "metadata": {},
          "execution_count": 10
        }
      ],
      "source": [
        "df.sentiment.value_counts()"
      ]
    },
    {
      "cell_type": "markdown",
      "source": [
        "Tokenization of text into words"
      ],
      "metadata": {
        "id": "sdJCucX24ylN"
      }
    },
    {
      "cell_type": "code",
      "execution_count": null,
      "metadata": {
        "colab": {
          "base_uri": "https://localhost:8080/"
        },
        "id": "zRFHh7CzJ_-Z",
        "outputId": "a27f767c-4c76-4bd1-fbbd-c4f7f1a0b3e5"
      },
      "outputs": [
        {
          "output_type": "stream",
          "name": "stdout",
          "text": [
            "One of the other reviewers has mentioned that after watching just 1 Oz episode you'll be hooked. They are right, as this is exactly what happened with me.<br /><br />The first thing that struck me about Oz was its brutality and unflinching scenes of violence, which set in right from the word GO. Trust me, this is not a show for the faint hearted or timid. This show pulls no punches with regards to drugs, sex or violence. Its is hardcore, in the classic use of the word.<br /><br />It is called OZ as that is the nickname given to the Oswald Maximum Security State Penitentary. It focuses mainly on Emerald City, an experimental section of the prison where all the cells have glass fronts and face inwards, so privacy is not high on the agenda. Em City is home to many..Aryans, Muslims, gangstas, Latinos, Christians, Italians, Irish and more....so scuffles, death stares, dodgy dealings and shady agreements are never far away.<br /><br />I would say the main appeal of the show is due to the fact that it goes where other shows wouldn't dare. Forget pretty pictures painted for mainstream audiences, forget charm, forget romance...OZ doesn't mess around. The first episode I ever saw struck me as so nasty it was surreal, I couldn't say I was ready for it, but as I watched more, I developed a taste for Oz, and got accustomed to the high levels of graphic violence. Not just violence, but injustice (crooked guards who'll be sold out for a nickel, inmates who'll kill on order and get away with it, well mannered, middle class inmates being turned into prison bitches due to their lack of street skills or prison experience) Watching Oz, you may become comfortable with what is uncomfortable viewing....thats if you can get in touch with your darker side.\n",
            "====================\n",
            "['One', 'of', 'the', 'other', 'reviewers', 'has', 'mentioned', 'that', 'after', 'watching', 'just', '1', 'Oz', 'episode', 'you', \"'ll\", 'be', 'hooked', '.', 'They', 'are', 'right', ',', 'as', 'this', 'is', 'exactly', 'what', 'happened', 'with', 'me.', '<', 'br', '/', '>', '<', 'br', '/', '>', 'The', 'first', 'thing', 'that', 'struck', 'me', 'about', 'Oz', 'was', 'its', 'brutality', 'and', 'unflinching', 'scenes', 'of', 'violence', ',', 'which', 'set', 'in', 'right', 'from', 'the', 'word', 'GO', '.', 'Trust', 'me', ',', 'this', 'is', 'not', 'a', 'show', 'for', 'the', 'faint', 'hearted', 'or', 'timid', '.', 'This', 'show', 'pulls', 'no', 'punches', 'with', 'regards', 'to', 'drugs', ',', 'sex', 'or', 'violence', '.', 'Its', 'is', 'hardcore', ',', 'in', 'the', 'classic', 'use', 'of', 'the', 'word.', '<', 'br', '/', '>', '<', 'br', '/', '>', 'It', 'is', 'called', 'OZ', 'as', 'that', 'is', 'the', 'nickname', 'given', 'to', 'the', 'Oswald', 'Maximum', 'Security', 'State', 'Penitentary', '.', 'It', 'focuses', 'mainly', 'on', 'Emerald', 'City', ',', 'an', 'experimental', 'section', 'of', 'the', 'prison', 'where', 'all', 'the', 'cells', 'have', 'glass', 'fronts', 'and', 'face', 'inwards', ',', 'so', 'privacy', 'is', 'not', 'high', 'on', 'the', 'agenda', '.', 'Em', 'City', 'is', 'home', 'to', 'many', '..', 'Aryans', ',', 'Muslims', ',', 'gangstas', ',', 'Latinos', ',', 'Christians', ',', 'Italians', ',', 'Irish', 'and', 'more', '....', 'so', 'scuffles', ',', 'death', 'stares', ',', 'dodgy', 'dealings', 'and', 'shady', 'agreements', 'are', 'never', 'far', 'away.', '<', 'br', '/', '>', '<', 'br', '/', '>', 'I', 'would', 'say', 'the', 'main', 'appeal', 'of', 'the', 'show', 'is', 'due', 'to', 'the', 'fact', 'that', 'it', 'goes', 'where', 'other', 'shows', 'would', \"n't\", 'dare', '.', 'Forget', 'pretty', 'pictures', 'painted', 'for', 'mainstream', 'audiences', ',', 'forget', 'charm', ',', 'forget', 'romance', '...', 'OZ', 'does', \"n't\", 'mess', 'around', '.', 'The', 'first', 'episode', 'I', 'ever', 'saw', 'struck', 'me', 'as', 'so', 'nasty', 'it', 'was', 'surreal', ',', 'I', 'could', \"n't\", 'say', 'I', 'was', 'ready', 'for', 'it', ',', 'but', 'as', 'I', 'watched', 'more', ',', 'I', 'developed', 'a', 'taste', 'for', 'Oz', ',', 'and', 'got', 'accustomed', 'to', 'the', 'high', 'levels', 'of', 'graphic', 'violence', '.', 'Not', 'just', 'violence', ',', 'but', 'injustice', '(', 'crooked', 'guards', 'who', \"'ll\", 'be', 'sold', 'out', 'for', 'a', 'nickel', ',', 'inmates', 'who', \"'ll\", 'kill', 'on', 'order', 'and', 'get', 'away', 'with', 'it', ',', 'well', 'mannered', ',', 'middle', 'class', 'inmates', 'being', 'turned', 'into', 'prison', 'bitches', 'due', 'to', 'their', 'lack', 'of', 'street', 'skills', 'or', 'prison', 'experience', ')', 'Watching', 'Oz', ',', 'you', 'may', 'become', 'comfortable', 'with', 'what', 'is', 'uncomfortable', 'viewing', '....', 'thats', 'if', 'you', 'can', 'get', 'in', 'touch', 'with', 'your', 'darker', 'side', '.']\n"
          ]
        }
      ],
      "source": [
        "text=df['review'][0]\n",
        "print(text)\n",
        "print(\"====================\")\n",
        "print(word_tokenize(text))\n"
      ]
    },
    {
      "cell_type": "markdown",
      "source": [
        "Pre-processing of Text data"
      ],
      "metadata": {
        "id": "zbgxS5F_7p80"
      }
    },
    {
      "cell_type": "code",
      "execution_count": null,
      "metadata": {
        "id": "X-wQucZuKABQ"
      },
      "outputs": [],
      "source": [
        "corpus=[]\n",
        "for text in df['review']:\n",
        "    words= [word.lower() for word in word_tokenize(text)]\n",
        "    corpus.append(words)\n"
      ]
    },
    {
      "cell_type": "code",
      "execution_count": null,
      "metadata": {
        "colab": {
          "base_uri": "https://localhost:8080/"
        },
        "id": "e7ueHcfhNbWX",
        "outputId": "10a66c48-4159-4a34-9110-507cf191320b"
      },
      "outputs": [
        {
          "output_type": "stream",
          "name": "stdout",
          "text": [
            "50000\n"
          ]
        }
      ],
      "source": [
        "num_words = len(corpus)\n",
        "print(num_words)"
      ]
    },
    {
      "cell_type": "code",
      "execution_count": null,
      "metadata": {
        "colab": {
          "base_uri": "https://localhost:8080/"
        },
        "id": "cSDeDn9tNbaM",
        "outputId": "f83f2037-c008-4327-c340-3fe2eb387e90"
      },
      "outputs": [
        {
          "output_type": "execute_result",
          "data": {
            "text/plain": [
              "(50000, 2)"
            ]
          },
          "metadata": {},
          "execution_count": 14
        }
      ],
      "source": [
        "df.shape"
      ]
    },
    {
      "cell_type": "markdown",
      "metadata": {
        "id": "s70W4E0xQIQm"
      },
      "source": [
        "Splitting Data into Train and Test (80%-20%)"
      ]
    },
    {
      "cell_type": "code",
      "execution_count": null,
      "metadata": {
        "id": "ZO54IV1FOjwk"
      },
      "outputs": [],
      "source": [
        "train_size= int(df.shape[0]*0.8)"
      ]
    },
    {
      "cell_type": "code",
      "execution_count": null,
      "metadata": {
        "colab": {
          "base_uri": "https://localhost:8080/"
        },
        "id": "i5Nxe5dvzpMj",
        "outputId": "8b7c2c87-648f-49c7-d1de-5a45c9172e4c"
      },
      "outputs": [
        {
          "output_type": "execute_result",
          "data": {
            "text/plain": [
              "40000"
            ]
          },
          "metadata": {},
          "execution_count": 16
        }
      ],
      "source": [
        "train_size"
      ]
    },
    {
      "cell_type": "code",
      "execution_count": null,
      "metadata": {
        "id": "dqn_3BfKOjz7"
      },
      "outputs": [],
      "source": [
        "X_train = df.review[:train_size]\n",
        "y_train = df.sentiment[:train_size]\n",
        "X_test = df.review[train_size:]\n",
        "y_test = df.sentiment[train_size:]"
      ]
    },
    {
      "cell_type": "markdown",
      "source": [
        "Initiation of Tokenizer into training data"
      ],
      "metadata": {
        "id": "BuJd-0Li-qqG"
      }
    },
    {
      "cell_type": "code",
      "execution_count": null,
      "metadata": {
        "id": "o7nUbStUOj2_"
      },
      "outputs": [],
      "source": [
        "tokenizer = Tokenizer(num_words)\n",
        "tokenizer.fit_on_texts(X_train)"
      ]
    },
    {
      "cell_type": "markdown",
      "source": [
        "Preprocessing"
      ],
      "metadata": {
        "id": "fs5avGOW-zS6"
      }
    },
    {
      "cell_type": "code",
      "execution_count": null,
      "metadata": {
        "id": "mtjZXNFOOj53"
      },
      "outputs": [],
      "source": [
        "X_train= tokenizer.texts_to_sequences(X_train)\n",
        "X_train= pad_sequences(X_train,maxlen=128,truncating ='post', padding='post')"
      ]
    },
    {
      "cell_type": "code",
      "execution_count": null,
      "metadata": {
        "id": "4SXq2o3RnVzD"
      },
      "outputs": [],
      "source": [
        "X_test= tokenizer.texts_to_sequences(X_test)\n",
        "X_test= pad_sequences(X_test,maxlen=128,truncating ='post', padding='post')"
      ]
    },
    {
      "cell_type": "code",
      "execution_count": null,
      "metadata": {
        "colab": {
          "base_uri": "https://localhost:8080/"
        },
        "id": "t0swd3-eOj8-",
        "outputId": "740679d8-3579-4b3c-a2e8-03cf2127f6ef"
      },
      "outputs": [
        {
          "output_type": "execute_result",
          "data": {
            "text/plain": [
              "(array([   27,     4,     1,    80,  2102,    45,  1073,    12,   100,\n",
              "          147,    39,   316,  2968,   409,   459,    26,  3173,    33,\n",
              "           23,   200,    14,    11,     6,   614,    48,   606,    16,\n",
              "           68,     7,     7,     1,    87,   148,    12,  3256,    68,\n",
              "           41,  2968,    13,    92,  5626,     2, 16202,   134,     4,\n",
              "          569,    60,   271,     8,   200,    36,     1,   673,   139,\n",
              "         1712,    68,    11,     6,    21,     3,   118,    15,     1,\n",
              "         7870,  2257,    38, 11540,    11,   118,  2495,    54,  5662,\n",
              "           16,  5182,     5,  1438,   377,    38,   569,    92,     6,\n",
              "         3730,     8,     1,   360,   353,     4,     1,   673,     7,\n",
              "            7,     9,     6,   431,  2968,    14,    12,     6,     1,\n",
              "        11736,   356,     5,     1, 14689,  6526,  2594,  1087,     9,\n",
              "         2661,  1432,    20, 22583,   534,    32,  4795,  2451,     4,\n",
              "            1,  1193,   117,    29,     1,  6893,    25,  2874, 12191,\n",
              "            2,   392], dtype=int32), 128)"
            ]
          },
          "metadata": {},
          "execution_count": 21
        }
      ],
      "source": [
        "X_train[0],len(X_train[0])"
      ]
    },
    {
      "cell_type": "code",
      "execution_count": null,
      "metadata": {
        "colab": {
          "base_uri": "https://localhost:8080/"
        },
        "id": "ZY6GCPiCp5lk",
        "outputId": "a660a3fa-d0f1-4332-8de4-8a0d5d8e4323"
      },
      "outputs": [
        {
          "output_type": "execute_result",
          "data": {
            "text/plain": [
              "(array([   87,   122,    10,   180,     5,   132,    12,    10,  7131,\n",
              "         3717,    20,     1,  1001,  2285,     2,    10,   255,     1,\n",
              "           17,  2431,    10,  1311,     5,   103,     1,   222,  6349,\n",
              "            4,     3,    19,    11,    17,   974,     3,   351,     5,\n",
              "          215,  1011,   415,     9,    13,   215,  1380,    56,   235,\n",
              "          402,   300,     4,   316,    23,   257,    19,   961,    12,\n",
              "        22250,    12,    33,    66,    61,   212,    53,    16,    11,\n",
              "          113,    13,   497,     2,     1,   102,    70,  5358,    15,\n",
              "            1,    88,   172,     1,   473,   824,     8,     1,    64,\n",
              "           67,    54,    49,  2406,    30,    29,    33,    90,    40,\n",
              "        35787,    83,    46,   438,     4,     3,    74,   220,     2,\n",
              "           10,   115,    21,    63,    12,    30,    29,   268,    10,\n",
              "         1059,   137,    10,    78,    21,   119,    28,    13,     1,\n",
              "           88,   175,     5,   728,  3423,   108,     8,     1,    17,\n",
              "           10,   115], dtype=int32), 128)"
            ]
          },
          "metadata": {},
          "execution_count": 22
        }
      ],
      "source": [
        "X_test[0],len(X_test[0])"
      ]
    },
    {
      "cell_type": "code",
      "execution_count": null,
      "metadata": {
        "colab": {
          "base_uri": "https://localhost:8080/"
        },
        "id": "4Gjy8pMiKAD4",
        "outputId": "4eeb7bb4-1361-4961-db77-8af2fdfbc45d"
      },
      "outputs": [
        {
          "output_type": "stream",
          "name": "stdout",
          "text": [
            "(40000, 128) (40000,)\n"
          ]
        }
      ],
      "source": [
        "print(X_train.shape,y_train.shape)\n"
      ]
    },
    {
      "cell_type": "code",
      "execution_count": null,
      "metadata": {
        "colab": {
          "base_uri": "https://localhost:8080/"
        },
        "id": "GPBmY8o5pcSF",
        "outputId": "742e0194-14fa-48db-efe3-4027d82d99a5"
      },
      "outputs": [
        {
          "output_type": "stream",
          "name": "stdout",
          "text": [
            "(10000, 128) (10000,)\n"
          ]
        }
      ],
      "source": [
        "print(X_test.shape, y_test.shape)"
      ]
    },
    {
      "cell_type": "markdown",
      "source": [
        "Label- Encoding - transforming categorical to numerical variables"
      ],
      "metadata": {
        "id": "OihGUOZz_peE"
      }
    },
    {
      "cell_type": "code",
      "execution_count": null,
      "metadata": {
        "id": "It4dJ0_vKAGv"
      },
      "outputs": [],
      "source": [
        "le = preprocessing.LabelEncoder()\n",
        "y_train=le.fit_transform(y_train)\n",
        "y_test=le.transform(y_test)\n",
        "\n",
        "\n"
      ]
    },
    {
      "cell_type": "markdown",
      "source": [
        "Tried creating a model with the below dimensions and loss function but faced overfitting issue .HENCE, later applied regularization to reduce the problem of overfitting."
      ],
      "metadata": {
        "id": "KJfHAeK4_v6g"
      }
    },
    {
      "cell_type": "code",
      "execution_count": null,
      "metadata": {
        "id": "KeMAVVyvKALt"
      },
      "outputs": [],
      "source": [
        "#model=Sequential()\n",
        "#model.add(Embedding(input_dim=num_words, output_dim=100, input_length=128, trainable=True))\n",
        "#model.add(LSTM(100,dropout=0.1,return_sequences=True))\n",
        "#model.add(LSTM(100,dropout=0.1,return_sequences=True))\n",
        "#model.add(LSTM(100,dropout=0.1,return_sequences=False))\n",
        "#model.add(Dense(1,activation='tanh'))\n",
        "#model.compile(loss='binary_crossentropy',optimizer='adam',metrics=['accuracy'])##\n",
        "\n",
        "\n",
        "\n"
      ]
    },
    {
      "cell_type": "code",
      "source": [
        "from keras import regularizers\n",
        "from keras.layers import BatchNormalization\n",
        "from keras.callbacks import EarlyStopping"
      ],
      "metadata": {
        "id": "UHshhKbh_U3F"
      },
      "execution_count": null,
      "outputs": []
    },
    {
      "cell_type": "markdown",
      "source": [
        "Sequential Model is created.Previously , we have tried out multiple times compiling model with layers and differnt rates of drop out & activation function, but have encountered the overfitting issue of validation error.  \n",
        "Hence,in order to resolve the overfitting issue following changes were done :\n",
        "addition of batch normalization to LSTM layers to normalize the inputs\n",
        "drop out rate incresed to 0.2 \n",
        "addition of kernel regularizers"
      ],
      "metadata": {
        "id": "kiD0eSZAAhwJ"
      }
    },
    {
      "cell_type": "code",
      "source": [
        "model=Sequential()\n",
        "model.add(Embedding(input_dim=num_words, output_dim=100, input_length=128, trainable=True))\n",
        "model.add(LSTM(100, dropout=0.2, return_sequences=True, kernel_regularizer=regularizers.l2(0.01)))\n",
        "model.add(BatchNormalization())\n",
        "model.add(LSTM(100, dropout=0.2, return_sequences=True, kernel_regularizer=regularizers.l2(0.01)))\n",
        "model.add(BatchNormalization())\n",
        "model.add(LSTM(100, dropout=0.2, return_sequences=False, kernel_regularizer=regularizers.l2(0.01)))\n",
        "model.add(BatchNormalization())\n",
        "model.add(Dense(1,activation='tanh'))\n",
        "model.compile(loss='binary_crossentropy',optimizer='adam',metrics=['accuracy'])\n",
        "\n",
        "callbacks=[EarlyStopping(monitor='val_loss', patience=3)]\n"
      ],
      "metadata": {
        "id": "dFIYmfql_Jkw"
      },
      "execution_count": null,
      "outputs": []
    },
    {
      "cell_type": "code",
      "execution_count": null,
      "metadata": {
        "colab": {
          "base_uri": "https://localhost:8080/"
        },
        "id": "-TfDcXUwb6no",
        "outputId": "678d0fea-d093-4eb3-b4a8-7efddc4b5cc7"
      },
      "outputs": [
        {
          "output_type": "stream",
          "name": "stdout",
          "text": [
            "Model: \"sequential_2\"\n",
            "_________________________________________________________________\n",
            " Layer (type)                Output Shape              Param #   \n",
            "=================================================================\n",
            " embedding_2 (Embedding)     (None, 128, 100)          5000000   \n",
            "                                                                 \n",
            " lstm_6 (LSTM)               (None, 128, 100)          80400     \n",
            "                                                                 \n",
            " batch_normalization_3 (Batc  (None, 128, 100)         400       \n",
            " hNormalization)                                                 \n",
            "                                                                 \n",
            " lstm_7 (LSTM)               (None, 128, 100)          80400     \n",
            "                                                                 \n",
            " batch_normalization_4 (Batc  (None, 128, 100)         400       \n",
            " hNormalization)                                                 \n",
            "                                                                 \n",
            " lstm_8 (LSTM)               (None, 100)               80400     \n",
            "                                                                 \n",
            " batch_normalization_5 (Batc  (None, 100)              400       \n",
            " hNormalization)                                                 \n",
            "                                                                 \n",
            " dense_2 (Dense)             (None, 1)                 101       \n",
            "                                                                 \n",
            "=================================================================\n",
            "Total params: 5,242,501\n",
            "Trainable params: 5,241,901\n",
            "Non-trainable params: 600\n",
            "_________________________________________________________________\n"
          ]
        }
      ],
      "source": [
        "model.summary()"
      ]
    },
    {
      "cell_type": "code",
      "execution_count": null,
      "metadata": {
        "colab": {
          "base_uri": "https://localhost:8080/"
        },
        "id": "PRGQ9h7FcCEt",
        "outputId": "b8dfc679-c576-40b9-fd73-ec10c3d786b2"
      },
      "outputs": [
        {
          "output_type": "stream",
          "name": "stdout",
          "text": [
            "Epoch 1/10\n",
            "625/625 [==============================] - 508s 799ms/step - loss: 6.0465 - accuracy: 0.5418 - val_loss: 5.6395 - val_accuracy: 0.5808\n",
            "Epoch 2/10\n",
            "625/625 [==============================] - 490s 784ms/step - loss: 3.9357 - accuracy: 0.5559 - val_loss: 3.4831 - val_accuracy: 0.5821\n",
            "Epoch 3/10\n",
            "625/625 [==============================] - 493s 789ms/step - loss: 3.4677 - accuracy: 0.5833 - val_loss: 2.9465 - val_accuracy: 0.6102\n",
            "Epoch 4/10\n",
            "625/625 [==============================] - 506s 810ms/step - loss: 2.8023 - accuracy: 0.6339 - val_loss: 2.7374 - val_accuracy: 0.5003\n",
            "Epoch 5/10\n",
            "625/625 [==============================] - 504s 807ms/step - loss: 2.4274 - accuracy: 0.5926 - val_loss: 2.2519 - val_accuracy: 0.5207\n",
            "Epoch 6/10\n",
            "625/625 [==============================] - 504s 806ms/step - loss: 1.9533 - accuracy: 0.6960 - val_loss: 2.0908 - val_accuracy: 0.5022\n",
            "Epoch 7/10\n",
            "625/625 [==============================] - 505s 807ms/step - loss: 2.0994 - accuracy: 0.6610 - val_loss: 7.3622 - val_accuracy: 0.4891\n",
            "Epoch 8/10\n",
            "625/625 [==============================] - 497s 795ms/step - loss: 1.6751 - accuracy: 0.7190 - val_loss: 1.7074 - val_accuracy: 0.5306\n",
            "Epoch 9/10\n",
            "625/625 [==============================] - 495s 792ms/step - loss: 1.8065 - accuracy: 0.7400 - val_loss: 7.1795 - val_accuracy: 0.5277\n",
            "Epoch 10/10\n",
            "625/625 [==============================] - 504s 805ms/step - loss: 2.1516 - accuracy: 0.6405 - val_loss: 2.3653 - val_accuracy: 0.4775\n"
          ]
        }
      ],
      "source": [
        "history= model.fit(X_train,y_train,epochs=10, batch_size=64, validation_data=(X_test,y_test), callbacks=callbacks)"
      ]
    },
    {
      "cell_type": "code",
      "execution_count": null,
      "metadata": {
        "colab": {
          "base_uri": "https://localhost:8080/",
          "height": 249
        },
        "id": "_wxNH9ZYcrP3",
        "outputId": "92db2835-5bae-4fcf-80c7-b33f77e15fb3"
      },
      "outputs": [
        {
          "output_type": "error",
          "ename": "NameError",
          "evalue": "ignored",
          "traceback": [
            "\u001b[0;31m---------------------------------------------------------------------------\u001b[0m",
            "\u001b[0;31mNameError\u001b[0m                                 Traceback (most recent call last)",
            "\u001b[0;32m<ipython-input-2-234f3f061bb7>\u001b[0m in \u001b[0;36m<module>\u001b[0;34m\u001b[0m\n\u001b[1;32m      1\u001b[0m \u001b[0mplt\u001b[0m\u001b[0;34m.\u001b[0m\u001b[0mfigure\u001b[0m\u001b[0;34m(\u001b[0m\u001b[0mfigsize\u001b[0m\u001b[0;34m=\u001b[0m\u001b[0;34m(\u001b[0m\u001b[0;36m16\u001b[0m\u001b[0;34m,\u001b[0m\u001b[0;36m5\u001b[0m\u001b[0;34m)\u001b[0m\u001b[0;34m)\u001b[0m\u001b[0;34m\u001b[0m\u001b[0;34m\u001b[0m\u001b[0m\n\u001b[0;32m----> 2\u001b[0;31m \u001b[0mepochs\u001b[0m\u001b[0;34m=\u001b[0m\u001b[0mrange\u001b[0m\u001b[0;34m(\u001b[0m\u001b[0;36m1\u001b[0m\u001b[0;34m,\u001b[0m\u001b[0mlen\u001b[0m\u001b[0;34m(\u001b[0m\u001b[0mhistory\u001b[0m\u001b[0;34m.\u001b[0m\u001b[0mhistory\u001b[0m\u001b[0;34m[\u001b[0m\u001b[0;34m'accuracy'\u001b[0m\u001b[0;34m]\u001b[0m\u001b[0;34m)\u001b[0m\u001b[0;34m+\u001b[0m\u001b[0;36m1\u001b[0m\u001b[0;34m)\u001b[0m\u001b[0;34m\u001b[0m\u001b[0;34m\u001b[0m\u001b[0m\n\u001b[0m\u001b[1;32m      3\u001b[0m \u001b[0mplt\u001b[0m\u001b[0;34m.\u001b[0m\u001b[0mplot\u001b[0m\u001b[0;34m(\u001b[0m\u001b[0mepochs\u001b[0m\u001b[0;34m,\u001b[0m\u001b[0mhistory\u001b[0m\u001b[0;34m.\u001b[0m\u001b[0mhistory\u001b[0m\u001b[0;34m[\u001b[0m\u001b[0;34m'loss'\u001b[0m\u001b[0;34m]\u001b[0m\u001b[0;34m)\u001b[0m\u001b[0;34m\u001b[0m\u001b[0;34m\u001b[0m\u001b[0m\n\u001b[1;32m      4\u001b[0m \u001b[0mplt\u001b[0m\u001b[0;34m.\u001b[0m\u001b[0mplot\u001b[0m\u001b[0;34m(\u001b[0m\u001b[0mepochs\u001b[0m\u001b[0;34m,\u001b[0m\u001b[0mhistory\u001b[0m\u001b[0;34m.\u001b[0m\u001b[0mhistory\u001b[0m\u001b[0;34m[\u001b[0m\u001b[0;34m'val_loss'\u001b[0m\u001b[0;34m]\u001b[0m\u001b[0;34m)\u001b[0m\u001b[0;34m\u001b[0m\u001b[0;34m\u001b[0m\u001b[0m\n\u001b[1;32m      5\u001b[0m \u001b[0;31m# plt.legends()\u001b[0m\u001b[0;34m\u001b[0m\u001b[0;34m\u001b[0m\u001b[0;34m\u001b[0m\u001b[0m\n",
            "\u001b[0;31mNameError\u001b[0m: name 'history' is not defined"
          ]
        },
        {
          "output_type": "display_data",
          "data": {
            "text/plain": [
              "<Figure size 1152x360 with 0 Axes>"
            ]
          },
          "metadata": {}
        }
      ],
      "source": [
        "#plt.figure(figsize=(16,5))\n",
        "#epochs=range(1,len(history.history['accuracy'])+1)\n",
        "#plt.plot(epochs,history.history['loss'])\n",
        "#plt.plot(epochs,history.history['val_loss'])\n",
        "# plt.legends()\n",
        "#plt.show()"
      ]
    },
    {
      "cell_type": "markdown",
      "source": [
        "Results: Graph reflecting the validation and training error ."
      ],
      "metadata": {
        "id": "p6_L0j4RDYIy"
      }
    },
    {
      "cell_type": "code",
      "execution_count": null,
      "metadata": {
        "colab": {
          "base_uri": "https://localhost:8080/",
          "height": 301
        },
        "id": "uGx5-CJ2crTr",
        "outputId": "75601e86-24bb-4712-b8c2-25ae5168504b"
      },
      "outputs": [
        {
          "output_type": "display_data",
          "data": {
            "text/plain": [
              "<Figure size 432x288 with 1 Axes>"
            ],
            "image/png": "[encoded data removed]"
          },
          "metadata": {}
        }
      ],
      "source": [
        "import matplotlib.pyplot as plt\n",
        "plt.plot(history.history['loss'])\n",
        "plt.plot(history.history['val_loss'])\n",
        "plt.title('Model loss')\n",
        "plt.ylabel('Loss')\n",
        "plt.xlabel('Epoch')\n",
        "plt.legend(['Train', 'Validation'], loc='upper right')\n",
        "plt.show()"
      ]
    },
    {
      "cell_type": "markdown",
      "source": [],
      "metadata": {
        "id": "TL1MM-zrzOY5"
      }
    },
    {
      "cell_type": "code",
      "execution_count": null,
      "metadata": {
        "colab": {
          "background_save": true
        },
        "id": "QC8gsoT_crYr"
      },
      "outputs": [],
      "source": []
    }
  ],
  "metadata": {
    "colab": {
      "provenance": []
    },
    "kernelspec": {
      "display_name": "Python 3",
      "name": "python3"
    },
    "language_info": {
      "name": "python"
    }
  },
  "nbformat": 4,
  "nbformat_minor": 0
}